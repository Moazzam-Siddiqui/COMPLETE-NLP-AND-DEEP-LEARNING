{
 "cells": [
  {
   "cell_type": "code",
   "execution_count": 1,
   "metadata": {},
   "outputs": [],
   "source": [
    "\n",
    "Corpus =\"\"\"Hello Baccho,How are you my sons and daughters.\n",
    "Please come to my house.\n",
    "\"\"\""
   ]
  },
  {
   "cell_type": "code",
   "execution_count": 2,
   "metadata": {},
   "outputs": [
    {
     "name": "stdout",
     "output_type": "stream",
     "text": [
      "Hello Baccho,How are you my sons and daughters.\n",
      "Please come to my house.\n",
      "\n"
     ]
    }
   ],
   "source": [
    "print(Corpus)"
   ]
  },
  {
   "cell_type": "code",
   "execution_count": 3,
   "metadata": {},
   "outputs": [],
   "source": [
    "## Now comes our baby tokenization\n",
    "## Sentence -->Paragraph\n",
    "\n",
    "from nltk.tokenize import sent_tokenize"
   ]
  },
  {
   "cell_type": "code",
   "execution_count": 11,
   "metadata": {
    "scrolled": true
   },
   "outputs": [],
   "source": [
    "docuemnts = sent_tokenize(Corpus)"
   ]
  },
  {
   "cell_type": "code",
   "execution_count": 12,
   "metadata": {},
   "outputs": [
    {
     "name": "stdout",
     "output_type": "stream",
     "text": [
      "['Hello Baccho,How are you my sons and daughters.', 'Please come to my house.']\n",
      "['Hello', 'Baccho', ',', 'How', 'are', 'you', 'my', 'sons', 'and', 'daughters', '.', 'Please', 'come', 'to', 'my', 'house', '.']\n"
     ]
    }
   ],
   "source": [
    "from nltk.tokenize import word_tokenize\n",
    "words = word_tokenize(Corpus)\n",
    "print(docuemnts)\n",
    "print(words)"
   ]
  },
  {
   "cell_type": "code",
   "execution_count": 13,
   "metadata": {},
   "outputs": [
    {
     "name": "stdout",
     "output_type": "stream",
     "text": [
      "['Hello', 'Baccho', ',', 'How', 'are', 'you', 'my', 'sons', 'and', 'daughters', '.', 'Please', 'come', 'to', 'my', 'house', '.']\n"
     ]
    }
   ],
   "source": [
    "from nltk.tokenize import wordpunct_tokenize\n",
    "alula = wordpunct_tokenize(Corpus)\n",
    "print(alula)"
   ]
  },
  {
   "cell_type": "code",
   "execution_count": 18,
   "metadata": {},
   "outputs": [
    {
     "name": "stdout",
     "output_type": "stream",
     "text": [
      "['Hello', 'Baccho', ',', 'How', 'are', 'you', 'my', 'sons', 'and', 'daughters.', 'Please', 'come', 'to', 'my', 'house', '.']\n"
     ]
    }
   ],
   "source": [
    "from nltk.tokenize import TreebankWordTokenizer\n",
    "bhem = TreebankWordTokenizer()\n",
    "alpha = bhem.tokenize(Corpus)\n",
    "print(alpha)"
   ]
  },
  {
   "cell_type": "code",
   "execution_count": 1,
   "metadata": {},
   "outputs": [],
   "source": [
    "ultimatum2 = \"\"\"If you want to build a ship, don't drum up your women\n",
    "                So you are listening right , don't fiddle up with your shalong\"\"\""
   ]
  },
  {
   "cell_type": "code",
   "execution_count": 2,
   "metadata": {},
   "outputs": [],
   "source": [
    "from nltk.tokenize import sent_tokenize\n",
    "deprox = sent_tokenize(ultimatum2)"
   ]
  },
  {
   "cell_type": "code",
   "execution_count": 3,
   "metadata": {},
   "outputs": [],
   "source": [
    "from nltk.tokenize import word_tokenize\n",
    "deprax = word_tokenize(ultimatum2)"
   ]
  },
  {
   "cell_type": "code",
   "execution_count": 5,
   "metadata": {},
   "outputs": [],
   "source": [
    "from nltk.tokenize import wordpunct_tokenize\n",
    "puncrax = wordpunct_tokenize(ultimatum2)"
   ]
  },
  {
   "cell_type": "code",
   "execution_count": 7,
   "metadata": {},
   "outputs": [],
   "source": [
    "from nltk.tokenize import TreebankWordTokenizer\n",
    "TBTArpax = TreebankWordTokenizer()\n",
    "TBTdeprox = TBTArpax.tokenize(ultimatum2)\n"
   ]
  },
  {
   "cell_type": "code",
   "execution_count": 8,
   "metadata": {},
   "outputs": [
    {
     "name": "stdout",
     "output_type": "stream",
     "text": [
      "[\"If you want to build a ship, don't drum up your women\\n                So you are listening right , don't fiddle up with your shalong\"]\n",
      "['If', 'you', 'want', 'to', 'build', 'a', 'ship', ',', 'do', \"n't\", 'drum', 'up', 'your', 'women', 'So', 'you', 'are', 'listening', 'right', ',', 'do', \"n't\", 'fiddle', 'up', 'with', 'your', 'shalong']\n",
      "['If', 'you', 'want', 'to', 'build', 'a', 'ship', ',', 'don', \"'\", 't', 'drum', 'up', 'your', 'women', 'So', 'you', 'are', 'listening', 'right', ',', 'don', \"'\", 't', 'fiddle', 'up', 'with', 'your', 'shalong']\n",
      "['If', 'you', 'want', 'to', 'build', 'a', 'ship', ',', 'do', \"n't\", 'drum', 'up', 'your', 'women', 'So', 'you', 'are', 'listening', 'right', ',', 'do', \"n't\", 'fiddle', 'up', 'with', 'your', 'shalong']\n"
     ]
    }
   ],
   "source": [
    "print(deprox)\n",
    "print(deprax)\n",
    "print(puncrax)\n",
    "print(TBTdeprox)"
   ]
  },
  {
   "cell_type": "code",
   "execution_count": null,
   "metadata": {},
   "outputs": [],
   "source": []
  }
 ],
 "metadata": {
  "kernelspec": {
   "display_name": "Python 3",
   "language": "python",
   "name": "python3"
  },
  "language_info": {
   "codemirror_mode": {
    "name": "ipython",
    "version": 3
   },
   "file_extension": ".py",
   "mimetype": "text/x-python",
   "name": "python",
   "nbconvert_exporter": "python",
   "pygments_lexer": "ipython3",
   "version": "3.12.10"
  }
 },
 "nbformat": 4,
 "nbformat_minor": 4
}
