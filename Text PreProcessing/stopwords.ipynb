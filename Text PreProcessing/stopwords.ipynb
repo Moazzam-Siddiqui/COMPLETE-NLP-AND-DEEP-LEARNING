{
 "cells": [
  {
   "cell_type": "code",
   "execution_count": 2,
   "metadata": {},
   "outputs": [],
   "source": [
    "from nltk.stem import PorterStemmer\n",
    "from nltk.corpus import stopwords\n",
    "from nltk.tokenize import sent_tokenize\n",
    "from nltk.tokenize import word_tokenize\n",
    "corpus =\"\"\"Artificial Intelligence (AI) is rapidly transforming the way we live, work, and interact with the world. From voice assistants to self-driving cars, AI is becoming an integral part of daily life. As technology continues to advance, the future of AI promises even more groundbreaking innovations that will shape industries, improve efficiency, and enhance human experiences.\n",
    "\n",
    "One of the most promising applications of AI is in healthcare. AI-powered diagnostic tools can detect diseases such as cancer at an early stage, improving treatment outcomes. Machine learning algorithms analyze medical data to identify patterns that may not be visible to the human eye. Additionally, AI chatbots assist patients by answering medical queries and scheduling appointments. In the future, AI could help develop personalized medicine, tailoring treatments to individual genetic profiles.\n",
    "\n",
    "The automotive industry is undergoing a revolution with the rise of AI-driven autonomous vehicles. Companies like Tesla, Waymo, and others are developing self-driving cars that use AI to navigate roads safely. AI enhances traffic management systems by predicting congestion and suggesting alternative routes, reducing travel time and fuel consumption. In the coming years, AI could make public transportation more efficient by optimizing schedules and routes based on real-time data.\"\"\"\n"
   ]
  },
  {
   "cell_type": "code",
   "execution_count": 3,
   "metadata": {},
   "outputs": [],
   "source": [
    "stemmer = PorterStemmer()\n"
   ]
  },
  {
   "cell_type": "code",
   "execution_count": 4,
   "metadata": {},
   "outputs": [],
   "source": [
    "sentences = sent_tokenize(corpus)"
   ]
  },
  {
   "cell_type": "code",
   "execution_count": 10,
   "metadata": {},
   "outputs": [],
   "source": [
    "for i in range(len(sentences)):\n",
    "    words = word_tokenize(sentences[i])\n",
    "    words = [stemmer.stem(word) for word in words if word not in set(stopwords.words('english'))]\n",
    "    sentences[i] = ' '.join(words)"
   ]
  },
  {
   "cell_type": "code",
   "execution_count": 8,
   "metadata": {},
   "outputs": [
    {
     "data": {
      "text/plain": [
       "['Artificial Intelligence (AI) is rapidly transforming the way we live, work, and interact with the world.',\n",
       " 'From voice assistants to self-driving cars, AI is becoming an integral part of daily life.',\n",
       " 'As technology continues to advance, the future of AI promises even more groundbreaking innovations that will shape industries, improve efficiency, and enhance human experiences.',\n",
       " 'One of the most promising applications of AI is in healthcare.',\n",
       " 'AI-powered diagnostic tools can detect diseases such as cancer at an early stage, improving treatment outcomes.',\n",
       " 'Machine learning algorithms analyze medical data to identify patterns that may not be visible to the human eye.',\n",
       " 'Additionally, AI chatbots assist patients by answering medical queries and scheduling appointments.',\n",
       " 'In the future, AI could help develop personalized medicine, tailoring treatments to individual genetic profiles.',\n",
       " 'The automotive industry is undergoing a revolution with the rise of AI-driven autonomous vehicles.',\n",
       " 'Companies like Tesla, Waymo, and others are developing self-driving cars that use AI to navigate roads safely.',\n",
       " 'AI enhances traffic management systems by predicting congestion and suggesting alternative routes, reducing travel time and fuel consumption.',\n",
       " 'In the coming years, AI could make public transportation more efficient by optimizing schedules and routes based on real-time data.']"
      ]
     },
     "execution_count": 8,
     "metadata": {},
     "output_type": "execute_result"
    }
   ],
   "source": [
    "sentences"
   ]
  },
  {
   "cell_type": "code",
   "execution_count": null,
   "metadata": {},
   "outputs": [],
   "source": [
    "from nltk.stem import SnowballStemmer\n",
    "stemmmer = SnowballStemmer('english')\n",
    "for i in range(len(sentences)):\n",
    "    words = word_tokenize(sentences[i])\n",
    "    words = [stemmmer.stem(word) for word in words if word not in set(stopwords.words('english'))]\n",
    "    sentences[i] = ' '.join(words)"
   ]
  },
  {
   "cell_type": "code",
   "execution_count": 38,
   "metadata": {},
   "outputs": [
    {
     "data": {
      "text/plain": [
       "['artifici intellig ( ai ) rapid transform way live , work , interact world .',\n",
       " 'voic assist self-driv car , ai becom integr part daili life .',\n",
       " 'technolog continu advanc , futur ai promi even groundbreak innov shape industri , improv effici , enhanc human experi .',\n",
       " 'one promi applic ai healthcar .',\n",
       " 'ai-pow diagnost tool detect disea cancer ear stage , improv treatment outcom .',\n",
       " 'machin learn algorithm analyz medic data identifi pattern may visibl human eye .',\n",
       " 'addit , ai chatbot assist patient answer medic queri schedul appoint .',\n",
       " 'futur , ai could help develop person medicin , tailor treatment individu genet profil .',\n",
       " 'automot industri undergo revolut rise ai-driven autonom vehicl .',\n",
       " 'compani like tesla , waymo , develop self-driv car use ai navig road safe .',\n",
       " 'ai enhanc traffic manag system predict congest suggest altern rout , reduc travel time fuel consumpt .',\n",
       " 'come year , ai could make public transport effici optim schedul rout base real-tim data .']"
      ]
     },
     "execution_count": 38,
     "metadata": {},
     "output_type": "execute_result"
    }
   ],
   "source": [
    "sentences"
   ]
  },
  {
   "cell_type": "code",
   "execution_count": 9,
   "metadata": {},
   "outputs": [],
   "source": [
    "from nltk.stem import WordNetLemmatizer\n",
    "lemmatizer = WordNetLemmatizer()\n",
    "for i in range(len(sentences)):\n",
    "    sentences[i] = sentences[i].lower()\n",
    "    words = word_tokenize(sentences[i])\n",
    "    words = [lemmatizer.lemmatize(word,pos='v') for word in words if word not in set(stopwords.words('english'))]\n",
    "    sentences[i] = ' '.join(words)"
   ]
  },
  {
   "cell_type": "markdown",
   "metadata": {},
   "source": []
  },
  {
   "cell_type": "code",
   "execution_count": 51,
   "metadata": {},
   "outputs": [
    {
     "data": {
      "text/plain": [
       "['artificial intelligence ( ai ) rapidly transform way live , work , interact world .',\n",
       " 'voice assistants self-driving cars , ai become integral part daily life .',\n",
       " 'technology continue advance , future ai promise even groundbreaking innovations shape industries , improve efficiency , enhance human experience .',\n",
       " 'one promise applications ai healthcare .',\n",
       " 'ai-powered diagnostic tool detect diseases cancer early stage , improve treatment outcomes .',\n",
       " 'machine learn algorithms analyze medical data identify pattern may visible human eye .',\n",
       " 'additionally , ai chatbots assist patients answer medical query schedule appointments .',\n",
       " 'future , ai could help develop personalize medicine , tailor treatments individual genetic profile .',\n",
       " 'automotive industry undergo revolution rise ai-driven autonomous vehicles .',\n",
       " 'company like tesla , waymo , others develop self-driving cars use ai navigate roads safely .',\n",
       " 'ai enhance traffic management systems predict congestion suggest alternative rout , reduce travel time fuel consumption .',\n",
       " 'come years , ai could make public transportation efficient optimize schedule rout base real-time data .']"
      ]
     },
     "execution_count": 51,
     "metadata": {},
     "output_type": "execute_result"
    }
   ],
   "source": [
    "sentences"
   ]
  },
  {
   "cell_type": "code",
   "execution_count": 13,
   "metadata": {},
   "outputs": [
    {
     "name": "stdout",
     "output_type": "stream",
     "text": [
      "[('artificial', 'JJ'), ('intelligence', 'NN'), ('(', '('), ('ai', 'NN'), (')', ')'), ('rapidly', 'RB'), ('transform', 'JJ'), ('way', 'NN'), ('live', 'JJ'), (',', ','), ('work', 'NN'), (',', ','), ('interact', 'JJ'), ('world', 'NN'), ('.', '.')]\n",
      "[('voice', 'NN'), ('assistants', 'NNS'), ('self-driving', 'JJ'), ('cars', 'NNS'), (',', ','), ('ai', 'VBP'), ('become', 'VBN'), ('integral', 'JJ'), ('part', 'NN'), ('daily', 'JJ'), ('life', 'NN'), ('.', '.')]\n",
      "[('technology', 'NN'), ('continue', 'NN'), ('advance', 'NN'), (',', ','), ('future', 'JJ'), ('ai', 'VBP'), ('promise', 'VB'), ('even', 'RB'), ('groundbreaking', 'VBG'), ('innovations', 'NNS'), ('shape', 'NN'), ('industries', 'NNS'), (',', ','), ('improve', 'VB'), ('efficiency', 'NN'), (',', ','), ('enhance', 'VB'), ('human', 'JJ'), ('experience', 'NN'), ('.', '.')]\n",
      "[('one', 'CD'), ('promise', 'NN'), ('applications', 'NNS'), ('ai', 'VBP'), ('healthcare', 'NN'), ('.', '.')]\n",
      "[('ai-powered', 'JJ'), ('diagnostic', 'JJ'), ('tool', 'NN'), ('detect', 'NN'), ('diseases', 'VBZ'), ('cancer', 'NN'), ('early', 'JJ'), ('stage', 'NN'), (',', ','), ('improve', 'VB'), ('treatment', 'NN'), ('outcomes', 'NNS'), ('.', '.')]\n",
      "[('machine', 'NN'), ('learn', 'NN'), ('algorithms', 'NN'), ('analyze', 'VBP'), ('medical', 'JJ'), ('data', 'NNS'), ('identify', 'NNS'), ('pattern', 'NN'), ('may', 'MD'), ('visible', 'VB'), ('human', 'JJ'), ('eye', 'NN'), ('.', '.')]\n",
      "[('additionally', 'RB'), (',', ','), ('ai', 'JJ'), ('chatbots', 'NNS'), ('assist', 'VBP'), ('patients', 'NNS'), ('answer', 'VB'), ('medical', 'JJ'), ('query', 'NN'), ('schedule', 'NN'), ('appointments', 'NNS'), ('.', '.')]\n",
      "[('future', 'NN'), (',', ','), ('ai', 'NN'), ('could', 'MD'), ('help', 'VB'), ('develop', 'VB'), ('personalize', 'JJ'), ('medicine', 'NN'), (',', ','), ('tailor', 'NN'), ('treatments', 'NNS'), ('individual', 'JJ'), ('genetic', 'JJ'), ('profile', 'NN'), ('.', '.')]\n",
      "[('automotive', 'JJ'), ('industry', 'NN'), ('undergo', 'NN'), ('revolution', 'NN'), ('rise', 'NN'), ('ai-driven', 'RB'), ('autonomous', 'JJ'), ('vehicles', 'NNS'), ('.', '.')]\n",
      "[('company', 'NN'), ('like', 'IN'), ('tesla', 'NN'), (',', ','), ('waymo', 'NN'), (',', ','), ('others', 'NNS'), ('develop', 'VBP'), ('self-driving', 'JJ'), ('cars', 'NNS'), ('use', 'VBP'), ('ai', 'JJ'), ('navigate', 'JJ'), ('roads', 'NNS'), ('safely', 'RB'), ('.', '.')]\n",
      "[('ai', 'JJ'), ('enhance', 'NN'), ('traffic', 'NN'), ('management', 'NN'), ('systems', 'NNS'), ('predict', 'VBP'), ('congestion', 'NN'), ('suggest', 'VBP'), ('alternative', 'NN'), ('rout', 'NN'), (',', ','), ('reduce', 'VB'), ('travel', 'NN'), ('time', 'NN'), ('fuel', 'NN'), ('consumption', 'NN'), ('.', '.')]\n",
      "[('come', 'JJ'), ('years', 'NNS'), (',', ','), ('ai', 'NN'), ('could', 'MD'), ('make', 'VB'), ('public', 'JJ'), ('transportation', 'NN'), ('efficient', 'JJ'), ('optimize', 'NN'), ('schedule', 'NN'), ('rout', 'IN'), ('base', 'NN'), ('real-time', 'JJ'), ('data', 'NNS'), ('.', '.')]\n"
     ]
    }
   ],
   "source": [
    "from nltk import pos_tag\n",
    "for i in range(len(sentences)):\n",
    "    words = word_tokenize(sentences[i])\n",
    "    words = [word for word in words if word not in set(stopwords.words('english'))]\n",
    "    post_tags = pos_tag(words)\n",
    "    print(post_tags)"
   ]
  },
  {
   "cell_type": "code",
   "execution_count": 12,
   "metadata": {},
   "outputs": [
    {
     "data": {
      "text/plain": [
       "['artificial intelligence ( ai ) rapidly transform way live , work , interact world .',\n",
       " 'voice assistants self-driving cars , ai become integral part daily life .',\n",
       " 'technology continue advance , future ai promise even groundbreaking innovations shape industries , improve efficiency , enhance human experience .',\n",
       " 'one promise applications ai healthcare .',\n",
       " 'ai-powered diagnostic tool detect diseases cancer early stage , improve treatment outcomes .',\n",
       " 'machine learn algorithms analyze medical data identify pattern may visible human eye .',\n",
       " 'additionally , ai chatbots assist patients answer medical query schedule appointments .',\n",
       " 'future , ai could help develop personalize medicine , tailor treatments individual genetic profile .',\n",
       " 'automotive industry undergo revolution rise ai-driven autonomous vehicles .',\n",
       " 'company like tesla , waymo , others develop self-driving cars use ai navigate roads safely .',\n",
       " 'ai enhance traffic management systems predict congestion suggest alternative rout , reduce travel time fuel consumption .',\n",
       " 'come years , ai could make public transportation efficient optimize schedule rout base real-time data .']"
      ]
     },
     "execution_count": 12,
     "metadata": {},
     "output_type": "execute_result"
    }
   ],
   "source": [
    "sentences"
   ]
  },
  {
   "cell_type": "code",
   "execution_count": 11,
   "metadata": {},
   "outputs": [],
   "source": [
    "for i in range(len(sentences)):\n",
    "    words = word_tokenize(sentences[i])\n",
    "    words = [stemmer.stem(word) for word in words if word not in set(stopwords.words('english'))]\n",
    "    sentences[i] = \" \".join(words)"
   ]
  },
  {
   "cell_type": "code",
   "execution_count": 16,
   "metadata": {},
   "outputs": [],
   "source": [
    "from nltk.stem import WordNetLemmatizer\n",
    "lemmatizer = WordNetLemmatizer()\n",
    "for i in range(len(sentences)):\n",
    "    words = word_tokenize(sentences[i])\n",
    "    words = [lemmatizer.lemmatize(word,pos='v') for word in words if word not in set(stopwords.words('english'))]\n",
    "    sentences[i] = \" \".join(words)"
   ]
  },
  {
   "cell_type": "code",
   "execution_count": 17,
   "metadata": {},
   "outputs": [
    {
     "data": {
      "text/plain": [
       "['artifici intellig ( ai ) rapidli transform way live , work , interact world .',\n",
       " 'voic assist self-driv car , ai becom integr part daili life .',\n",
       " 'technolog continu advanc , futur ai promi even groundbreak innov shape industri , improv effici , enhanc human experi .',\n",
       " 'one promi applic ai healthcar .',\n",
       " 'ai-pow diagnost tool detect disea cancer earli stage , improv treatment outcom .',\n",
       " 'machin learn algorithm analyz medic data identifi pattern may visibl human eye .',\n",
       " 'addit , ai chatbot assist patient answer medic queri schedul appoint .',\n",
       " 'futur , ai could help develop person medicin , tailor treatment individu genet profil .',\n",
       " 'automot industri undergo revolut rise ai-driven autonom vehicl .',\n",
       " 'compani like tesla , waymo , develop self-driv car use ai navig road safe .',\n",
       " 'ai enhanc traffic manag system predict congest suggest altern rout , reduc travel time fuel consumpt .',\n",
       " 'come year , ai could make public transport effici optim schedul rout base real-tim data .']"
      ]
     },
     "execution_count": 17,
     "metadata": {},
     "output_type": "execute_result"
    }
   ],
   "source": [
    "sentences"
   ]
  },
  {
   "cell_type": "code",
   "execution_count": 18,
   "metadata": {},
   "outputs": [
    {
     "name": "stdout",
     "output_type": "stream",
     "text": [
      "[('artifici', 'NN'), ('intellig', 'NN'), ('(', '('), ('ai', 'NN'), (')', ')'), ('rapidli', 'NN'), ('transform', 'JJ'), ('way', 'NN'), ('live', 'JJ'), (',', ','), ('work', 'NN'), (',', ','), ('interact', 'JJ'), ('world', 'NN'), ('.', '.')]\n",
      "[('voic', 'JJ'), ('assist', 'VB'), ('self-driv', 'JJ'), ('car', 'NN'), (',', ','), ('ai', 'VBP'), ('becom', 'NN'), ('integr', 'JJ'), ('part', 'NN'), ('daili', 'NN'), ('life', 'NN'), ('.', '.')]\n",
      "[('technolog', 'NN'), ('continu', 'NN'), ('advanc', 'NN'), (',', ','), ('futur', 'NN'), ('ai', 'VBP'), ('promi', 'RB'), ('even', 'RB'), ('groundbreak', 'VB'), ('innov', 'JJ'), ('shape', 'NN'), ('industri', 'NN'), (',', ','), ('improv', 'JJ'), ('effici', 'NN'), (',', ','), ('enhanc', 'NN'), ('human', 'JJ'), ('experi', 'NN'), ('.', '.')]\n",
      "[('one', 'CD'), ('promi', 'NN'), ('applic', 'JJ'), ('ai', 'NN'), ('healthcar', 'NN'), ('.', '.')]\n",
      "[('ai-pow', 'JJ'), ('diagnost', 'NN'), ('tool', 'NN'), ('detect', 'VBP'), ('disea', 'NN'), ('cancer', 'NN'), ('earli', 'NN'), ('stage', 'NN'), (',', ','), ('improv', 'JJ'), ('treatment', 'NN'), ('outcom', 'NN'), ('.', '.')]\n",
      "[('machin', 'NN'), ('learn', 'NN'), ('algorithm', 'NN'), ('analyz', 'VBP'), ('medic', 'JJ'), ('data', 'NNS'), ('identifi', 'NNS'), ('pattern', 'NN'), ('may', 'MD'), ('visibl', 'VB'), ('human', 'JJ'), ('eye', 'NN'), ('.', '.')]\n",
      "[('addit', 'NN'), (',', ','), ('ai', 'VBP'), ('chatbot', 'JJ'), ('assist', 'JJ'), ('patient', 'NN'), ('answer', 'NN'), ('medic', 'JJ'), ('queri', 'NN'), ('schedul', 'NN'), ('appoint', 'NN'), ('.', '.')]\n",
      "[('futur', 'NN'), (',', ','), ('ai', 'NN'), ('could', 'MD'), ('help', 'VB'), ('develop', 'VB'), ('person', 'NN'), ('medicin', 'NN'), (',', ','), ('tailor', 'NN'), ('treatment', 'NN'), ('individu', 'JJ'), ('genet', 'NN'), ('profil', 'NN'), ('.', '.')]\n",
      "[('automot', 'NN'), ('industri', 'NN'), ('undergo', 'NN'), ('revolut', 'VBP'), ('rise', 'NN'), ('ai-driven', 'JJ'), ('autonom', 'NN'), ('vehicl', 'NN'), ('.', '.')]\n",
      "[('compani', 'NNS'), ('like', 'IN'), ('tesla', 'NN'), (',', ','), ('waymo', 'NN'), (',', ','), ('develop', 'VB'), ('self-driv', 'JJ'), ('car', 'NN'), ('use', 'NN'), ('ai', 'VBP'), ('navig', 'JJ'), ('road', 'NN'), ('safe', 'JJ'), ('.', '.')]\n",
      "[('ai', 'RB'), ('enhanc', 'NN'), ('traffic', 'NN'), ('manag', 'NN'), ('system', 'NN'), ('predict', 'VBP'), ('congest', 'JJS'), ('suggest', 'NN'), ('altern', 'NN'), ('rout', 'NN'), (',', ','), ('reduc', 'VB'), ('travel', 'NN'), ('time', 'NN'), ('fuel', 'NN'), ('consumpt', 'NN'), ('.', '.')]\n",
      "[('come', 'JJ'), ('year', 'NN'), (',', ','), ('ai', 'NN'), ('could', 'MD'), ('make', 'VB'), ('public', 'JJ'), ('transport', 'NN'), ('effici', 'NN'), ('optim', 'NN'), ('schedul', 'NN'), ('rout', 'IN'), ('base', 'JJ'), ('real-tim', 'JJ'), ('data', 'NNS'), ('.', '.')]\n"
     ]
    }
   ],
   "source": [
    "from nltk import pos_tag\n",
    "for i in range(len(sentences)):\n",
    "    words = word_tokenize(sentences[i])\n",
    "    words = [word for word in words if word not in set(stopwords.words('english'))]\n",
    "    post_tags = pos_tag(words)\n",
    "    print(post_tags)"
   ]
  },
  {
   "cell_type": "code",
   "execution_count": 19,
   "metadata": {},
   "outputs": [
    {
     "data": {
      "text/plain": [
       "['artifici intellig ( ai ) rapidli transform way live , work , interact world .',\n",
       " 'voic assist self-driv car , ai becom integr part daili life .',\n",
       " 'technolog continu advanc , futur ai promi even groundbreak innov shape industri , improv effici , enhanc human experi .',\n",
       " 'one promi applic ai healthcar .',\n",
       " 'ai-pow diagnost tool detect disea cancer earli stage , improv treatment outcom .',\n",
       " 'machin learn algorithm analyz medic data identifi pattern may visibl human eye .',\n",
       " 'addit , ai chatbot assist patient answer medic queri schedul appoint .',\n",
       " 'futur , ai could help develop person medicin , tailor treatment individu genet profil .',\n",
       " 'automot industri undergo revolut rise ai-driven autonom vehicl .',\n",
       " 'compani like tesla , waymo , develop self-driv car use ai navig road safe .',\n",
       " 'ai enhanc traffic manag system predict congest suggest altern rout , reduc travel time fuel consumpt .',\n",
       " 'come year , ai could make public transport effici optim schedul rout base real-tim data .']"
      ]
     },
     "execution_count": 19,
     "metadata": {},
     "output_type": "execute_result"
    }
   ],
   "source": [
    "sentences"
   ]
  },
  {
   "cell_type": "code",
   "execution_count": null,
   "metadata": {},
   "outputs": [],
   "source": []
  }
 ],
 "metadata": {
  "kernelspec": {
   "display_name": "Python 3",
   "language": "python",
   "name": "python3"
  },
  "language_info": {
   "codemirror_mode": {
    "name": "ipython",
    "version": 3
   },
   "file_extension": ".py",
   "mimetype": "text/x-python",
   "name": "python",
   "nbconvert_exporter": "python",
   "pygments_lexer": "ipython3",
   "version": "3.12.10"
  }
 },
 "nbformat": 4,
 "nbformat_minor": 2
}
