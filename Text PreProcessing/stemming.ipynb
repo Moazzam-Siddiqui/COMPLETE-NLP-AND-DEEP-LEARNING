{
 "cells": [
  {
   "cell_type": "code",
   "execution_count": 2,
   "id": "b011e426",
   "metadata": {},
   "outputs": [
    {
     "name": "stdout",
     "output_type": "stream",
     "text": [
      "drink------->drink\n",
      "Drinking------->drink\n",
      "Eating------->eat\n",
      "Eats------->eat\n",
      "Eaten------->eaten\n",
      "Writes------->write\n",
      "Writing------->write\n",
      "Written------->written\n",
      "History------->histori\n",
      "Congratulations------->congratul\n",
      "Finalize------->final\n",
      "Finally------->final\n"
     ]
    }
   ],
   "source": [
    "from nltk.stem import PorterStemmer\n",
    "words = [\"drink\",\"Drinking\",'Eating','Eats','Eaten','Writes','Writing','Written','History','Congratulations','Finalize','Finally']\n",
    "ps = PorterStemmer()\n",
    "\n",
    "for word in words:\n",
    "    print(word+\"------->\"+ ps.stem(word))"
   ]
  },
  {
   "cell_type": "code",
   "execution_count": 8,
   "id": "d52afb25",
   "metadata": {},
   "outputs": [
    {
     "data": {
      "text/plain": [
       "'Love'"
      ]
     },
     "execution_count": 8,
     "metadata": {},
     "output_type": "execute_result"
    }
   ],
   "source": [
    "from nltk.stem import RegexpStemmer\n",
    "words = [\"drink\",\"Drinking\",'Eating','Eats','Eaten','Writes','Writing','Written','History','Congratulations','Finalize','Finally']\n",
    "\n",
    "regex = RegexpStemmer('ing$|s$|es$|ed$|ly$')\n",
    "regex.stem('Spanning')\n",
    "regex.stem('Lovely')"
   ]
  },
  {
   "cell_type": "code",
   "execution_count": 9,
   "id": "4c85ae4c",
   "metadata": {},
   "outputs": [
    {
     "name": "stdout",
     "output_type": "stream",
     "text": [
      "drink------->drink\n",
      "Drinking------->drink\n",
      "Eating------->eat\n",
      "Eats------->eat\n",
      "Eaten------->eaten\n",
      "Writes------->write\n",
      "Writing------->write\n",
      "Written------->written\n",
      "History------->histori\n",
      "Congratulations------->congratul\n",
      "Finalize------->final\n",
      "Finally------->final\n"
     ]
    }
   ],
   "source": [
    "from nltk.stem import SnowballStemmer\n",
    "\n",
    "SNBST = SnowballStemmer('english')\n",
    "for word in words:\n",
    "    print(word+\"------->\"+ SNBST.stem(word))"
   ]
  },
  {
   "cell_type": "code",
   "execution_count": 11,
   "id": "af8464f8",
   "metadata": {},
   "outputs": [
    {
     "data": {
      "text/plain": [
       "('span', 'love', 'cartoon')"
      ]
     },
     "execution_count": 11,
     "metadata": {},
     "output_type": "execute_result"
    }
   ],
   "source": [
    "SNBST.stem('Spanning'),SNBST.stem('Lovely'),SNBST.stem('Cartooning')"
   ]
  },
  {
   "cell_type": "code",
   "execution_count": null,
   "id": "92781051",
   "metadata": {},
   "outputs": [],
   "source": []
  }
 ],
 "metadata": {
  "kernelspec": {
   "display_name": "Python 3",
   "language": "python",
   "name": "python3"
  },
  "language_info": {
   "codemirror_mode": {
    "name": "ipython",
    "version": 3
   },
   "file_extension": ".py",
   "mimetype": "text/x-python",
   "name": "python",
   "nbconvert_exporter": "python",
   "pygments_lexer": "ipython3",
   "version": "3.12.10"
  }
 },
 "nbformat": 4,
 "nbformat_minor": 5
}
